{
  "nbformat": 4,
  "nbformat_minor": 0,
  "metadata": {
    "colab": {
      "provenance": [],
      "authorship_tag": "ABX9TyOQ9VXMT0qvmSnzGAQQPQiI",
      "include_colab_link": true
    },
    "kernelspec": {
      "name": "python3",
      "display_name": "Python 3"
    },
    "language_info": {
      "name": "python"
    }
  },
  "cells": [
    {
      "cell_type": "markdown",
      "metadata": {
        "id": "view-in-github",
        "colab_type": "text"
      },
      "source": [
        "<a href=\"https://colab.research.google.com/github/2303A52243/P-S-ASSIGMENTS/blob/main/P%26S_ASSIGNMENT_9.ipynb\" target=\"_parent\"><img src=\"https://colab.research.google.com/assets/colab-badge.svg\" alt=\"Open In Colab\"/></a>"
      ]
    },
    {
      "cell_type": "code",
      "execution_count": 1,
      "metadata": {
        "colab": {
          "base_uri": "https://localhost:8080/"
        },
        "id": "ou1W-z_h7T4W",
        "outputId": "5e5208e2-260c-4f4c-a277-3b7a6d9edb56"
      },
      "outputs": [
        {
          "output_type": "stream",
          "name": "stdout",
          "text": [
            "T-statistic: 13.547440957563675\n",
            "P-value: 6.995490069303675e-11\n",
            "There is a significant difference in the average daily water intake between the two groups.\n"
          ]
        }
      ],
      "source": [
        "#Q1\n",
        "import numpy as np\n",
        "from scipy import stats\n",
        "\n",
        "group_A = np.array([2.8, 3.1, 3.0, 2.5, 3.2, 3.0, 3.3, 2.7, 2.9, 3.0])\n",
        "group_B = np.array([1.5, 1.7, 1.6, 1.9, 2.0, 1.8, 1.7, 1.6, 1.8, 1.5])\n",
        "\n",
        "t_stat, p_value = stats.ttest_ind(group_A, group_B)\n",
        "\n",
        "print(f\"T-statistic: {t_stat}\")\n",
        "print(f\"P-value: {p_value}\")\n",
        "\n",
        "if p_value < 0.05:\n",
        "    print(\"There is a significant difference in the average daily water intake between the two groups.\")\n",
        "else:\n",
        "    print(\"There is no significant difference in the average daily water intake between the two groups.\")\n"
      ]
    },
    {
      "cell_type": "code",
      "source": [
        "#Q2\n",
        "import numpy as np\n",
        "from scipy import stats\n",
        "\n",
        "group_A = np.array([7, 8, 6, 9, 10, 8, 7, 6, 8, 9])\n",
        "group_B = np.array([3, 4, 2, 3, 5, 4, 3, 2, 4, 3])\n",
        "\n",
        "t_stat, p_value = stats.ttest_ind(group_A, group_B)\n",
        "\n",
        "print(f\"T-statistic: {t_stat}\")\n",
        "print(f\"P-value: {p_value}\")\n",
        "\n",
        "if p_value < 0.05:\n",
        "    print(\"There is a significant difference in the average number of hours spent exercising per week between the two groups.\")\n",
        "else:\n",
        "    print(\"There is no significant difference in the average number of hours spent exercising per week between the two groups.\")\n"
      ],
      "metadata": {
        "colab": {
          "base_uri": "https://localhost:8080/"
        },
        "id": "50KvhNeP7Ybf",
        "outputId": "add68add-5245-4fa0-df13-b88271ab820e"
      },
      "execution_count": 2,
      "outputs": [
        {
          "output_type": "stream",
          "name": "stdout",
          "text": [
            "T-statistic: 8.769192333232017\n",
            "P-value: 6.472889338915934e-08\n",
            "There is a significant difference in the average number of hours spent exercising per week between the two groups.\n"
          ]
        }
      ]
    },
    {
      "cell_type": "code",
      "source": [
        "#Q3\n",
        "import numpy as np\n",
        "from scipy import stats\n",
        "\n",
        "group_X = np.array([4, 5, 6, 3, 5, 6, 4, 5, 7, 6])\n",
        "group_Y = np.array([1, 2, 3, 2, 1, 4, 2, 1, 3, 2])\n",
        "\n",
        "t_stat, p_value = stats.ttest_ind(group_X, group_Y)\n",
        "\n",
        "print(f\"T-statistic: {t_stat}\")\n",
        "print(f\"P-value: {p_value}\")\n",
        "\n",
        "if p_value < 0.05:\n",
        "    print(\"There is a significant difference in the average number of hours spent reading books per week between the two groups.\")\n",
        "else:\n",
        "    print(\"There is no significant difference in the average number of hours spent reading books per week between the two groups.\")\n"
      ],
      "metadata": {
        "colab": {
          "base_uri": "https://localhost:8080/"
        },
        "id": "hjOjqIr17fPA",
        "outputId": "ba31836d-60b7-47b0-cd22-94edd128e01e"
      },
      "execution_count": 3,
      "outputs": [
        {
          "output_type": "stream",
          "name": "stdout",
          "text": [
            "T-statistic: 6.095569153307365\n",
            "P-value: 9.27205847240625e-06\n",
            "There is a significant difference in the average number of hours spent reading books per week between the two groups.\n"
          ]
        }
      ]
    }
  ]
}
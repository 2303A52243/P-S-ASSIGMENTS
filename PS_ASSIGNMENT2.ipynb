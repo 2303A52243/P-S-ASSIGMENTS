{
  "nbformat": 4,
  "nbformat_minor": 0,
  "metadata": {
    "colab": {
      "provenance": [],
      "authorship_tag": "ABX9TyMvLIKSMfNNlhyjxgUMPqge",
      "include_colab_link": true
    },
    "kernelspec": {
      "name": "python3",
      "display_name": "Python 3"
    },
    "language_info": {
      "name": "python"
    }
  },
  "cells": [
    {
      "cell_type": "markdown",
      "metadata": {
        "id": "view-in-github",
        "colab_type": "text"
      },
      "source": [
        "<a href=\"https://colab.research.google.com/github/2303A52243/P-S-ASSIGMENTS/blob/main/PS_ASSIGNMENT2.ipynb\" target=\"_parent\"><img src=\"https://colab.research.google.com/assets/colab-badge.svg\" alt=\"Open In Colab\"/></a>"
      ]
    },
    {
      "cell_type": "code",
      "execution_count": 1,
      "metadata": {
        "colab": {
          "base_uri": "https://localhost:8080/"
        },
        "id": "_hL9sT8hkgz-",
        "outputId": "80190ad9-3491-47c3-aba1-9ca1da77817c"
      },
      "outputs": [
        {
          "output_type": "stream",
          "name": "stdout",
          "text": [
            "Median (using Numpy): 45.0\n",
            "Mode (using Numpy): 45\n",
            "Mode (using Pandas): 45\n"
          ]
        }
      ],
      "source": [
        "#Q1\n",
        "import numpy as np\n",
        "import pandas as pd\n",
        "\n",
        "data = [12, 45, 67, 23, 45, 89, 45, 12, 33, 67, 67, 78, 45, 23, 23, 56, 89, 45, 33, 45]\n",
        "\n",
        "median = np.median(data)\n",
        "\n",
        "values, counts = np.unique(data, return_counts=True)\n",
        "mode = values[np.argmax(counts)]\n",
        "\n",
        "data_series = pd.Series(data)\n",
        "mode_pandas = data_series.mode().values[0]\n",
        "\n",
        "print(\"Median (using Numpy):\", median)\n",
        "print(\"Mode (using Numpy):\", mode)\n",
        "print(\"Mode (using Pandas):\", mode_pandas)"
      ]
    },
    {
      "cell_type": "code",
      "source": [
        "#Q2\n",
        "import numpy as np\n",
        "\n",
        "class_intervals = [(0, 10), (10, 20), (20, 30), (30, 40), (40, 50)]\n",
        "frequencies = [4, 6, 10, 8, 2]\n",
        "\n",
        "cumulative_frequencies = np.cumsum(frequencies)\n",
        "N = sum(frequencies)\n",
        "\n",
        "median_class = next(i for i, cf in enumerate(cumulative_frequencies) if cf >= N / 2)\n",
        "L = class_intervals[median_class][0]\n",
        "f = frequencies[median_class]\n",
        "cf = cumulative_frequencies[median_class - 1] if median_class > 0 else 0\n",
        "h = class_intervals[median_class][1] - class_intervals[median_class][0]\n",
        "\n",
        "median = L + ((N / 2 - cf) / f) * h\n",
        "\n",
        "mode_class = next(i for i, f in enumerate(frequencies) if f == max(frequencies))\n",
        "L_mode = class_intervals[mode_class][0]\n",
        "f1 = frequencies[mode_class]\n",
        "f0 = frequencies[mode_class - 1] if mode_class > 0 else 0\n",
        "f2 = frequencies[mode_class + 1] if mode_class < len(frequencies) - 1 else 0\n",
        "h_mode = class_intervals[mode_class][1] - class_intervals[mode_class][0]\n",
        "\n",
        "mode = L_mode + ((f1 - f0) / ((f1 - f0) + (f1 - f2))) * h_mode\n",
        "\n",
        "median, mode\n"
      ],
      "metadata": {
        "colab": {
          "base_uri": "https://localhost:8080/"
        },
        "id": "KlURYni4k-fZ",
        "outputId": "2e5a74f3-2a0b-48ec-ab61-19b10881fe99"
      },
      "execution_count": null,
      "outputs": [
        {
          "output_type": "execute_result",
          "data": {
            "text/plain": [
              "(25.0, 26.666666666666664)"
            ]
          },
          "metadata": {},
          "execution_count": 3
        }
      ]
    }
  ]
}